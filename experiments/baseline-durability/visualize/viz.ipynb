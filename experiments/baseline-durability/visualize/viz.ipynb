{
 "cells": [
  {
   "cell_type": "code",
   "execution_count": 4,
   "metadata": {
    "collapsed": false
   },
   "outputs": [],
   "source": [
    "import pandas as pd\n",
    "import numpy as np\n",
    "import matplotlib\n",
    "import matplotlib.pyplot as plt\n",
    "import json\n",
    "import glob as glob\n",
    "import os\n",
    "%matplotlib inline"
   ]
  },
  {
   "cell_type": "code",
   "execution_count": 5,
   "metadata": {
    "collapsed": true
   },
   "outputs": [],
   "source": [
    "def to_seconds(timestamp):\n",
    "    ts = timestamp.split(':')\n",
    "    return float(float(ts[0])*60*60 + float(ts[1])*60 + float(ts[2]))\n",
    "\n",
    "def parse_mdtest(files):\n",
    "    r = []\n",
    "    for fname in sorted(files):\n",
    "        with open(fname) as f:\n",
    "            data = json.load(f)\n",
    "            for client in data['results']:\n",
    "                for line in client['stdout_lines']:\n",
    "                    if \"started\" in line: start = line.split()[4]\n",
    "                    if \"finished\" in line: end = line.split()[4]            \n",
    "                r.append(to_seconds(end) - to_seconds(start))\n",
    "    return r\n",
    "\n",
    "def parse_delta(files):\n",
    "    r = []\n",
    "    o = []\n",
    "    for fname in sorted(files):\n",
    "        with open(fname) as f:\n",
    "            data = json.load(f)       \n",
    "            r.append(to_seconds(data['delta']))\n",
    "            try:\n",
    "                o.append(float(data['stdout']))\n",
    "            except:\n",
    "                o.append(0)\n",
    "    return r, o"
   ]
  },
  {
   "cell_type": "code",
   "execution_count": 7,
   "metadata": {
    "collapsed": false
   },
   "outputs": [
    {
     "data": {
      "text/html": [
       "<div>\n",
       "<table border=\"1\" class=\"dataframe\">\n",
       "  <thead>\n",
       "    <tr style=\"text-align: right;\">\n",
       "      <th></th>\n",
       "      <th>job</th>\n",
       "      <th>mean</th>\n",
       "      <th>std</th>\n",
       "    </tr>\n",
       "  </thead>\n",
       "  <tbody>\n",
       "    <tr>\n",
       "      <th>0</th>\n",
       "      <td>No\\nJournal</td>\n",
       "      <td>1.0</td>\n",
       "      <td>0.032575</td>\n",
       "    </tr>\n",
       "    <tr>\n",
       "      <th>1</th>\n",
       "      <td>30</td>\n",
       "      <td>NaN</td>\n",
       "      <td>NaN</td>\n",
       "    </tr>\n",
       "    <tr>\n",
       "      <th>2</th>\n",
       "      <td>60</td>\n",
       "      <td>NaN</td>\n",
       "      <td>NaN</td>\n",
       "    </tr>\n",
       "    <tr>\n",
       "      <th>3</th>\n",
       "      <td>90</td>\n",
       "      <td>NaN</td>\n",
       "      <td>NaN</td>\n",
       "    </tr>\n",
       "    <tr>\n",
       "      <th>4</th>\n",
       "      <td>120</td>\n",
       "      <td>NaN</td>\n",
       "      <td>NaN</td>\n",
       "    </tr>\n",
       "    <tr>\n",
       "      <th>5</th>\n",
       "      <td>150</td>\n",
       "      <td>NaN</td>\n",
       "      <td>NaN</td>\n",
       "    </tr>\n",
       "    <tr>\n",
       "      <th>6</th>\n",
       "      <td>180</td>\n",
       "      <td>NaN</td>\n",
       "      <td>NaN</td>\n",
       "    </tr>\n",
       "  </tbody>\n",
       "</table>\n",
       "</div>"
      ],
      "text/plain": [
       "           job  mean       std\n",
       "0  No\\nJournal   1.0  0.032575\n",
       "1           30   NaN       NaN\n",
       "2           60   NaN       NaN\n",
       "3           90   NaN       NaN\n",
       "4          120   NaN       NaN\n",
       "5          150   NaN       NaN\n",
       "6          180   NaN       NaN"
      ]
     },
     "execution_count": 7,
     "metadata": {},
     "output_type": "execute_result"
    },
    {
     "data": {
      "image/png": "[encoded data removed]",
      "text/plain": [
       "<matplotlib.figure.Figure at 0x7f5ee02c63d0>"
      ]
     },
     "metadata": {},
     "output_type": "display_data"
    }
   ],
   "source": [
    "# baseline: creates without journal\n",
    "df = pd.DataFrame(columns=[\"job\", \"mean\", \"std\"])\n",
    "s = \"../results-done/nojournal-cache/\"\n",
    "d = parse_mdtest(glob.glob(s + 'mdtest-100000-*'))\n",
    "mean = np.mean(d)\n",
    "d = d/mean\n",
    "df.loc[len(df)] = ['No\\nJournal', np.mean(d), np.std(d)]\n",
    "\n",
    "# data: get normalized values\n",
    "for site in [\"30\", \"60\", \"90\", \"120\", \"150\", \"180\"]:\n",
    "    s = 'experiments/kernel/journal/results/journal' + site + '-cache/'\n",
    "    d = parse_mdtest(glob.glob(s + 'mdtest-100000-*'))\n",
    "    d = d/mean\n",
    "    df.loc[len(df)] = [site.replace('-', '\\n'), np.mean(d), np.std(d)]\n",
    "df\n",
    "\n",
    "# plot\n",
    "fig, ax = plt.subplots(1, 1)\n",
    "df.plot.bar(ax=ax, y='mean', yerr='std')\n",
    "ax.set_xticklabels(df['job'], rotation=0)\n",
    "ax.legend().remove()\n",
    "ax.set_title(\"Effect of Journal Segment Size\")\n",
    "ax.set_ylabel(\"Relative Runtime\", fontsize=12)\n",
    "ax.set_ylim(0, 1.5)\n",
    "ax.set_xlabel(\"Segment Size (MB)\")\n",
    "vals = ax.get_yticks()\n",
    "ax.set_yticklabels(['{:3.1f}x'.format(x) for x in vals])\n",
    "ax.set_ylim(0.1)\n",
    "\n",
    "font = {'size'   : 15}\n",
    "matplotlib.rc('font', **font)\n",
    "\n",
    "df\n",
    "#fig.savefig('paper/graphs/slowdown-journal.png', bbox_inches='tight', dpi=400)"
   ]
  },
  {
   "cell_type": "code",
   "execution_count": null,
   "metadata": {
    "collapsed": true
   },
   "outputs": [],
   "source": []
  }
 ],
 "metadata": {
  "kernelspec": {
   "display_name": "Python 2",
   "language": "python",
   "name": "python2"
  },
  "language_info": {
   "codemirror_mode": {
    "name": "ipython",
    "version": 2
   },
   "file_extension": ".py",
   "mimetype": "text/x-python",
   "name": "python",
   "nbconvert_exporter": "python",
   "pygments_lexer": "ipython2",
   "version": "2.7.12"
  }
 },
 "nbformat": 4,
 "nbformat_minor": 0
}
