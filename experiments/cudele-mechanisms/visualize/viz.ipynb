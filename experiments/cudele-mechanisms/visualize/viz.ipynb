{
 "cells": [
  {
   "cell_type": "code",
   "execution_count": 1,
   "metadata": {
    "collapsed": true
   },
   "outputs": [],
   "source": [
    "import pandas as pd\n",
    "import numpy as np\n",
    "import matplotlib\n",
    "import matplotlib.pyplot as plt\n",
    "import json\n",
    "import glob as glob\n",
    "import os\n",
    "%matplotlib inline"
   ]
  },
  {
   "cell_type": "code",
   "execution_count": 2,
   "metadata": {
    "collapsed": true
   },
   "outputs": [],
   "source": [
    "def to_seconds(timestamp):\n",
    "    ts = timestamp.split(':')\n",
    "    return float(float(ts[0])*60*60 + float(ts[1])*60 + float(ts[2]))\n",
    "\n",
    "def parse_mdtest(files):\n",
    "    r = []\n",
    "    for fname in sorted(files):\n",
    "        with open(fname) as f:\n",
    "            data = json.load(f)\n",
    "            for line in data['stdout_lines']:\n",
    "                if \"started\" in line: start = line.split()[4]\n",
    "                if \"finished\" in line: end = line.split()[4]\n",
    "            r.append(to_seconds(end) - to_seconds(start))\n",
    "    return r"
   ]
  },
  {
   "cell_type": "code",
   "execution_count": 12,
   "metadata": {
    "collapsed": false
   },
   "outputs": [
    {
     "data": {
      "text/html": [
       "<div>\n",
       "<table border=\"1\" class=\"dataframe\">\n",
       "  <thead>\n",
       "    <tr style=\"text-align: right;\">\n",
       "      <th></th>\n",
       "      <th>interfere</th>\n",
       "      <th>isolated</th>\n",
       "    </tr>\n",
       "  </thead>\n",
       "  <tbody>\n",
       "    <tr>\n",
       "      <th>0</th>\n",
       "      <td>360.0</td>\n",
       "      <td>191.0</td>\n",
       "    </tr>\n",
       "    <tr>\n",
       "      <th>1</th>\n",
       "      <td>522.0</td>\n",
       "      <td>320.0</td>\n",
       "    </tr>\n",
       "    <tr>\n",
       "      <th>2</th>\n",
       "      <td>985.0</td>\n",
       "      <td>689.0</td>\n",
       "    </tr>\n",
       "    <tr>\n",
       "      <th>3</th>\n",
       "      <td>1412.0</td>\n",
       "      <td>1099.0</td>\n",
       "    </tr>\n",
       "  </tbody>\n",
       "</table>\n",
       "</div>"
      ],
      "text/plain": [
       "   interfere  isolated\n",
       "0      360.0     191.0\n",
       "1      522.0     320.0\n",
       "2      985.0     689.0\n",
       "3     1412.0    1099.0"
      ]
     },
     "execution_count": 12,
     "metadata": {},
     "output_type": "execute_result"
    },
    {
     "data": {
      "image/png": "[encoded data removed]",
      "text/plain": [
       "<matplotlib.figure.Figure at 0x7f1c6d226b10>"
      ]
     },
     "metadata": {},
     "output_type": "display_data"
    }
   ],
   "source": [
    "norm = np.mean(parse_mdtest(glob.glob(\"../results-cloudlab-clients1/*isolated*\")))\n",
    "\n",
    "mean = pd.DataFrame(columns=[\"interfere\", \"isolated\"])\n",
    "stds = pd.DataFrame(columns=[\"interfere\", \"isolated\"])\n",
    "clients = [1, 5, 10, 15]\n",
    "for i in clients:\n",
    "    j0 = parse_mdtest(glob.glob(\"../results-cloudlab-clients\" + str(i) + \"/*interfere*\"))\n",
    "    j1 = parse_mdtest(glob.glob(\"../results-cloudlab-clients\" + str(i) + \"/*isolated*\"))    \n",
    "    #df.loc[len(df)] = [str(i), np.mean(d/norm), np.std(d/norm)]\n",
    "    mean.loc[len(mean)] = [np.m(j0), np.max(j1)]\n",
    "    stds.loc[len(stds)] = [np.std(j0), np.std(j1)]    \n",
    "fig, ax = plt.subplots(1, 4, figsize=(16, 4))\n",
    "mean.plot.bar(ax=ax[0])\n",
    "x = ax[0].set_xticklabels(clients, rotation=0)\n",
    "stds.plot.bar(ax=ax[1])\n",
    "x = ax[1].set_xticklabels(clients, rotation=0)\n",
    "mean"
   ]
  },
  {
   "cell_type": "code",
   "execution_count": null,
   "metadata": {
    "collapsed": true
   },
   "outputs": [],
   "source": []
  }
 ],
 "metadata": {
  "kernelspec": {
   "display_name": "Python 2",
   "language": "python",
   "name": "python2"
  },
  "language_info": {
   "codemirror_mode": {
    "name": "ipython",
    "version": 2
   },
   "file_extension": ".py",
   "mimetype": "text/x-python",
   "name": "python",
   "nbconvert_exporter": "python",
   "pygments_lexer": "ipython2",
   "version": "2.7.12"
  }
 },
 "nbformat": 4,
 "nbformat_minor": 0
}
