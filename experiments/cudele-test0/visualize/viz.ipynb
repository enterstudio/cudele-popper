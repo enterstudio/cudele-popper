{
 "cells": [
  {
   "cell_type": "code",
   "execution_count": 1,
   "metadata": {
    "collapsed": false
   },
   "outputs": [],
   "source": [
    "import pandas as pd\n",
    "import numpy as np\n",
    "import matplotlib\n",
    "import matplotlib.pyplot as plt\n",
    "import json\n",
    "import glob as glob\n",
    "import os\n",
    "%matplotlib inline"
   ]
  },
  {
   "cell_type": "code",
   "execution_count": 2,
   "metadata": {
    "collapsed": true
   },
   "outputs": [],
   "source": [
    "def to_seconds(timestamp):\n",
    "    ts = timestamp.split(':')\n",
    "    return float(float(ts[0])*60*60 + float(ts[1])*60 + float(ts[2]))\n",
    "\n",
    "def parse_mdtest(files):\n",
    "    r = []\n",
    "    for fname in sorted(files):\n",
    "        with open(fname) as f:\n",
    "            data = json.load(f)\n",
    "            for client in data['results']:\n",
    "                for line in client['stdout_lines']:\n",
    "                    if \"started\" in line: start = line.split()[4]\n",
    "                    if \"finished\" in line: end = line.split()[4]            \n",
    "                r.append(to_seconds(end) - to_seconds(start))\n",
    "    return r\n",
    "\n",
    "def parse_delta(files):\n",
    "    r = []; o = []\n",
    "    for fname in sorted(files):\n",
    "        with open(fname) as f:\n",
    "            data = json.load(f)       \n",
    "            r.append(to_seconds(data['delta']))\n",
    "            try:\n",
    "                o.append(float(data['stdout']))\n",
    "            except:\n",
    "                o.append(0)\n",
    "    return r, o\n",
    "\n",
    "def label(string):\n",
    "    if 'nojournal' in string:\n",
    "        return \"No\\nJournal\"\n",
    "    return string.replace(\"journal\", '')"
   ]
  },
  {
   "cell_type": "code",
   "execution_count": 3,
   "metadata": {
    "collapsed": false
   },
   "outputs": [
    {
     "name": "stdout",
     "output_type": "stream",
     "text": [
      "[113.0, 122.0, 124.0, 114.0, 122.0, 123.0, 117.0, 122.0, 117.0]\n",
      "baseline=100K/runtime=100K/119.333333333=837.988826816\n"
     ]
    },
    {
     "data": {
      "text/html": [
       "<div>\n",
       "<table border=\"1\" class=\"dataframe\">\n",
       "  <thead>\n",
       "    <tr style=\"text-align: right;\">\n",
       "      <th></th>\n",
       "      <th>job</th>\n",
       "      <th>mean</th>\n",
       "      <th>std</th>\n",
       "    </tr>\n",
       "  </thead>\n",
       "  <tbody>\n",
       "    <tr>\n",
       "      <th>0</th>\n",
       "      <td>No\\nJournal</td>\n",
       "      <td>1.000000</td>\n",
       "      <td>0.032575</td>\n",
       "    </tr>\n",
       "    <tr>\n",
       "      <th>1</th>\n",
       "      <td>30</td>\n",
       "      <td>1.405959</td>\n",
       "      <td>0.023629</td>\n",
       "    </tr>\n",
       "    <tr>\n",
       "      <th>2</th>\n",
       "      <td>60</td>\n",
       "      <td>1.338920</td>\n",
       "      <td>0.050862</td>\n",
       "    </tr>\n",
       "    <tr>\n",
       "      <th>3</th>\n",
       "      <td>90</td>\n",
       "      <td>1.301676</td>\n",
       "      <td>0.029029</td>\n",
       "    </tr>\n",
       "    <tr>\n",
       "      <th>4</th>\n",
       "      <td>120</td>\n",
       "      <td>1.280261</td>\n",
       "      <td>0.043772</td>\n",
       "    </tr>\n",
       "    <tr>\n",
       "      <th>5</th>\n",
       "      <td>150</td>\n",
       "      <td>1.250466</td>\n",
       "      <td>0.028149</td>\n",
       "    </tr>\n",
       "    <tr>\n",
       "      <th>6</th>\n",
       "      <td>180</td>\n",
       "      <td>1.257914</td>\n",
       "      <td>0.029940</td>\n",
       "    </tr>\n",
       "  </tbody>\n",
       "</table>\n",
       "</div>"
      ],
      "text/plain": [
       "           job      mean       std\n",
       "0  No\\nJournal  1.000000  0.032575\n",
       "1           30  1.405959  0.023629\n",
       "2           60  1.338920  0.050862\n",
       "3           90  1.301676  0.029029\n",
       "4          120  1.280261  0.043772\n",
       "5          150  1.250466  0.028149\n",
       "6          180  1.257914  0.029940"
      ]
     },
     "execution_count": 3,
     "metadata": {},
     "output_type": "execute_result"
    },
    {
     "data": {
      "image/png": "[encoded data removed]",
      "text/plain": [
       "<matplotlib.figure.Figure at 0x7f3cca990a90>"
      ]
     },
     "metadata": {},
     "output_type": "display_data"
    }
   ],
   "source": [
    "mean = 0\n",
    "df = pd.DataFrame(columns=[\"job\", \"mean\", \"std\"])\n",
    "for s in [\"nojournal\", \"journal30\", \"journal60\", \"journal90\",\n",
    "          \"journal120\", \"journal150\", \"journal180\"]:\n",
    "    d = parse_mdtest(glob.glob('../results0/' + s + '-cache/' + 'mdtest-100000-*'))\n",
    "    if mean == 0:\n",
    "        mean = np.mean(d)\n",
    "        print d\n",
    "    df.loc[len(df)] = [label(s), np.mean(d/mean), np.std(d/mean)]\n",
    "\n",
    "font = {'size'   : 15}; matplotlib.rc('font', **font)\n",
    "fig, ax = plt.subplots(1, 1)\n",
    "df.plot.bar(ax=ax, y='mean', yerr='std')\n",
    "ax.legend().remove()\n",
    "ax.set_title(\"Effect of Journal Segment Size\")\n",
    "ax.set_ylabel(\"Slowdown\")\n",
    "ax.set_ylim(0, 1.5)\n",
    "ax.set_xlabel(\"Segment Size (MB)\")\n",
    "ax.set_xticklabels(df['job'], rotation=0)\n",
    "ax.set_yticklabels(['{:3.1f}x'.format(y) for y in ax.get_yticks()])\n",
    "\n",
    "# draw arrow\n",
    "arrw = dict(facecolor='black', headwidth=0.5, width=0.5, shrink=1)\n",
    "args = {'horizontalalignment': 'center', 'fontsize': 12, 'arrowprops': arrw}\n",
    "ax.annotate(\"baseline\\n838\\nop/sec\", xy=(0.1, 1), xytext=(0.15, 1.2), **args)\n",
    "fig.savefig('../../../paper/graphs/slowdown-journal.png', bbox_inches='tight', dpi=400)\n",
    "print \"baseline=100K/runtime=100K/\" + str(mean) + \"=\" + str(100000/mean)\n",
    "df"
   ]
  },
  {
   "cell_type": "code",
   "execution_count": null,
   "metadata": {
    "collapsed": true
   },
   "outputs": [],
   "source": []
  }
 ],
 "metadata": {
  "kernelspec": {
   "display_name": "Python 2",
   "language": "python",
   "name": "python2"
  },
  "language_info": {
   "codemirror_mode": {
    "name": "ipython",
    "version": 2
   },
   "file_extension": ".py",
   "mimetype": "text/x-python",
   "name": "python",
   "nbconvert_exporter": "python",
   "pygments_lexer": "ipython2",
   "version": "2.7.12"
  }
 },
 "nbformat": 4,
 "nbformat_minor": 0
}
