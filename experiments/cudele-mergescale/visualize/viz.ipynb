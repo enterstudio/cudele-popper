{
 "cells": [
  {
   "cell_type": "code",
   "execution_count": 1,
   "metadata": {
    "collapsed": true
   },
   "outputs": [],
   "source": [
    "import pandas as pd\n",
    "import numpy as np\n",
    "import matplotlib\n",
    "import matplotlib.pyplot as plt\n",
    "import json\n",
    "import glob as glob\n",
    "import os\n",
    "%matplotlib inline\n",
    "import warnings\n",
    "from matplotlib.ticker import FormatStrFormatter\n",
    "warnings.filterwarnings('ignore')"
   ]
  },
  {
   "cell_type": "code",
   "execution_count": 9,
   "metadata": {
    "collapsed": true
   },
   "outputs": [],
   "source": [
    "def to_seconds(timestamp):\n",
    "    ts = timestamp.split(':')\n",
    "    try: return float(float(ts[0])*60*60 + float(ts[1])*60 + float(ts[2]))\n",
    "    except: return float(0)"
   ]
  },
  {
   "cell_type": "code",
   "execution_count": 108,
   "metadata": {
    "collapsed": false
   },
   "outputs": [
    {
     "data": {
      "text/plain": [
       "[<matplotlib.text.Text at 0x7f1cb4d11050>,\n",
       " <matplotlib.text.Text at 0x7f1cb4cf6110>,\n",
       " <matplotlib.text.Text at 0x7f1cb4d71290>,\n",
       " <matplotlib.text.Text at 0x7f1cb4c47c90>,\n",
       " <matplotlib.text.Text at 0x7f1cb4c56450>,\n",
       " <matplotlib.text.Text at 0x7f1cb4c56b90>]"
      ]
     },
     "execution_count": 108,
     "metadata": {},
     "output_type": "execute_result"
    },
    {
     "data": {
      "image/png": "[encoded data removed]",
      "text/plain": [
       "<matplotlib.figure.Figure at 0x7f1cb4eef810>"
      ]
     },
     "metadata": {},
     "output_type": "display_data"
    }
   ],
   "source": [
    "jobs   = ['RPCs', 'create', 'save', 'persist', 'v.apply', 'apply']\n",
    "files  = ['10000', '100000']\n",
    "\n",
    "with open('../results/summary.txt') as f:\n",
    "    df = pd.read_csv(f, names=['job', 'nfiles', 'time', 'runtime'])\n",
    "    df['runtime'] = df['runtime'].apply(to_seconds)\n",
    "\n",
    "fig, ax = plt.subplots(1, 1)\n",
    "shift = -.2\n",
    "index = 0\n",
    "jobs = [\"create\", \"save\", \"persist\", \"apply\", \"v.apply\"]\n",
    "colr = [\"red\", \"blue\", \"green\", \"magenta\", \"yellow\"]\n",
    "for job in jobs:\n",
    "    d = df[df['job'] == job]\n",
    "    x = np.arange(len(d))\n",
    "    ax.bar(x + shift, d['runtime'], width=0.1, label=job, color=colr[index])\n",
    "    shift += 0.1\n",
    "    index += 1\n",
    "ax.set_yscale('log')\n",
    "ax.legend(loc='upper left')\n",
    "\n",
    "labels = [\"\"]\n",
    "for n in d['nfiles']:\n",
    "    labels.append(n)\n",
    "ax.set_xticklabels(labels)\n",
    "#df.tail(20)\n"
   ]
  },
  {
   "cell_type": "code",
   "execution_count": null,
   "metadata": {
    "collapsed": true
   },
   "outputs": [],
   "source": []
  }
 ],
 "metadata": {
  "kernelspec": {
   "display_name": "Python 2",
   "language": "python",
   "name": "python2"
  },
  "language_info": {
   "codemirror_mode": {
    "name": "ipython",
    "version": 2
   },
   "file_extension": ".py",
   "mimetype": "text/x-python",
   "name": "python",
   "nbconvert_exporter": "python",
   "pygments_lexer": "ipython2",
   "version": "2.7.12"
  }
 },
 "nbformat": 4,
 "nbformat_minor": 0
}
