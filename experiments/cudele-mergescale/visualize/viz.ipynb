{
 "cells": [
  {
   "cell_type": "code",
   "execution_count": 6,
   "metadata": {
    "collapsed": true
   },
   "outputs": [],
   "source": [
    "import pandas as pd\n",
    "import numpy as np\n",
    "import matplotlib\n",
    "import matplotlib.pyplot as plt\n",
    "import json\n",
    "import glob as glob\n",
    "import os\n",
    "%matplotlib inline"
   ]
  },
  {
   "cell_type": "code",
   "execution_count": 7,
   "metadata": {
    "collapsed": true
   },
   "outputs": [],
   "source": [
    "def to_seconds(timestamp):\n",
    "    ts = timestamp.split(':')\n",
    "    return float(float(ts[0])*60*60 + float(ts[1])*60 + float(ts[2]))\n",
    "\n",
    "def parse_mdtest(files):\n",
    "    r = []\n",
    "    for fname in sorted(files):\n",
    "        with open(fname) as f:\n",
    "            data = json.load(f)\n",
    "            for line in data['stdout_lines']:\n",
    "                if \"started\" in line: start = line.split()[4]\n",
    "                if \"finished\" in line: end = line.split()[4]\n",
    "            r.append(to_seconds(end) - to_seconds(start))\n",
    "    return r"
   ]
  },
  {
   "cell_type": "code",
   "execution_count": 58,
   "metadata": {
    "collapsed": false
   },
   "outputs": [
    {
     "data": {
      "text/html": [
       "<div>\n",
       "<table border=\"1\" class=\"dataframe\">\n",
       "  <thead>\n",
       "    <tr style=\"text-align: right;\">\n",
       "      <th></th>\n",
       "      <th>interfere journal</th>\n",
       "      <th>isolated journal</th>\n",
       "    </tr>\n",
       "  </thead>\n",
       "  <tbody>\n",
       "    <tr>\n",
       "      <th>0</th>\n",
       "      <td>360.0</td>\n",
       "      <td>191.0</td>\n",
       "    </tr>\n",
       "    <tr>\n",
       "      <th>1</th>\n",
       "      <td>522.0</td>\n",
       "      <td>320.0</td>\n",
       "    </tr>\n",
       "    <tr>\n",
       "      <th>2</th>\n",
       "      <td>985.0</td>\n",
       "      <td>689.0</td>\n",
       "    </tr>\n",
       "    <tr>\n",
       "      <th>3</th>\n",
       "      <td>1412.0</td>\n",
       "      <td>1099.0</td>\n",
       "    </tr>\n",
       "    <tr>\n",
       "      <th>4</th>\n",
       "      <td>1636.0</td>\n",
       "      <td>1282.0</td>\n",
       "    </tr>\n",
       "  </tbody>\n",
       "</table>\n",
       "</div>"
      ],
      "text/plain": [
       "   interfere journal  isolated journal\n",
       "0              360.0             191.0\n",
       "1              522.0             320.0\n",
       "2              985.0             689.0\n",
       "3             1412.0            1099.0\n",
       "4             1636.0            1282.0"
      ]
     },
     "execution_count": 58,
     "metadata": {},
     "output_type": "execute_result"
    },
    {
     "data": {
      "image/png": "[encoded data removed]",
      "text/plain": [
       "<matplotlib.figure.Figure at 0x7f106fcfe710>"
      ]
     },
     "metadata": {},
     "output_type": "display_data"
    }
   ],
   "source": [
    "norm = np.mean(parse_mdtest(glob.glob(\"../../baseline-creates/results-cloudlab-clients1-nolog/*isolated*\")))\n",
    "mean = pd.DataFrame(columns=[\"interfere journal\", \"isolated journal\"])\n",
    "stds = pd.DataFrame(columns=[\"interfere journal\", \"isolated journal\"])\n",
    "clients = [1, 5, 10, 15, 18]\n",
    "for i in clients:\n",
    "    j0 = parse_mdtest(glob.glob(\"../../baseline-creates/results-cloudlab-clients\" + str(i) + \"/*interfere*\"))\n",
    "    j1 = parse_mdtest(glob.glob(\"../../baseline-creates/results-cloudlab-clients\" + str(i) + \"/*isolated*\"))    \n",
    "    mean.loc[len(mean)] = [np.max(j0), np.max(j1)]\n",
    "    stds.loc[len(stds)] = [np.std(j0), np.std(j1)]    \n",
    "fig, ax = plt.subplots(1, 1)\n",
    "mean.plot.bar(ax=ax)\n",
    "ax.set_ylabel(\"Slowdown (vs. 1 Isolated Client)\", fontsize=12)\n",
    "ax.set_title(\"Effect of Interfering Client\", fontsize=12)\n",
    "ax.set_xlabel(\"Number of Clients\", fontsize=12)\n",
    "x = ax.set_xticklabels(clients, rotation=0)\n",
    "mean"
   ]
  },
  {
   "cell_type": "code",
   "execution_count": 65,
   "metadata": {
    "collapsed": false
   },
   "outputs": [
    {
     "data": {
      "text/plain": [
       "<matplotlib.axes._subplots.AxesSubplot at 0x7f106fda2150>"
      ]
     },
     "execution_count": 65,
     "metadata": {},
     "output_type": "execute_result"
    },
    {
     "data": {
      "image/png": "[encoded data removed]",
      "text/plain": [
       "<matplotlib.figure.Figure at 0x7f106fe19d50>"
      ]
     },
     "metadata": {},
     "output_type": "display_data"
    }
   ],
   "source": [
    "# get the performance\n",
    "df = pd.read_csv(\"../results/summary.txt\", names=['job', 'nfiles', '# of Clients', 'time', 'runtime'])\n",
    "df['runtime'] = df['runtime'].apply(to_seconds)\n",
    "\n",
    "# add on the time to create\n",
    "with open('../../cudele-mechanisms/results/summary.txt') as f:\n",
    "    df_create = pd.read_csv(f, names=['job', 'nfiles', 'time', 'runtime'])\n",
    "    df_create['runtime'] = df_create['runtime'].apply(to_seconds)\n",
    "\n",
    "df_create = df_create[df_create['job'] == 'create']\n",
    "df_create = df_create[df_create['nfiles'] == 100000]\n",
    "df['runtime+create'] = df['runtime'] + float(df_create['runtime'])\n",
    "\n",
    "# normalize\n",
    "df['runtime+create'] = 1636/df['runtime+create']\n",
    "df['runtime'] = 1636/df['runtime']\n",
    "fig, ax = plt.subplots(1, 1)\n",
    "df['runtime'].plot.bar(ax=ax, color='green')\n",
    "df['runtime+create'].plot.bar(ax=ax, color='blue')"
   ]
  },
  {
   "cell_type": "code",
   "execution_count": null,
   "metadata": {
    "collapsed": true
   },
   "outputs": [],
   "source": []
  }
 ],
 "metadata": {
  "kernelspec": {
   "display_name": "Python 2",
   "language": "python",
   "name": "python2"
  },
  "language_info": {
   "codemirror_mode": {
    "name": "ipython",
    "version": 2
   },
   "file_extension": ".py",
   "mimetype": "text/x-python",
   "name": "python",
   "nbconvert_exporter": "python",
   "pygments_lexer": "ipython2",
   "version": "2.7.12"
  }
 },
 "nbformat": 4,
 "nbformat_minor": 0
}
