{
 "cells": [
  {
   "cell_type": "code",
   "execution_count": 1,
   "metadata": {
    "collapsed": false
   },
   "outputs": [],
   "source": [
    "import pandas as pd\n",
    "import numpy as np\n",
    "import matplotlib\n",
    "import matplotlib.pyplot as plt\n",
    "import json\n",
    "import glob as glob\n",
    "import os\n",
    "%matplotlib inline\n",
    "import warnings\n",
    "warnings.filterwarnings('ignore')\n",
    "font = {'size'   : 15}\n",
    "matplotlib.rc('font', **font)"
   ]
  },
  {
   "cell_type": "code",
   "execution_count": 20,
   "metadata": {
    "collapsed": false
   },
   "outputs": [
    {
     "ename": "SystemExit",
     "evalue": "Create time series (../results/req_create.wsp.out) does not exist, please cd to experiments/baseline-compile/visualize and run ./plot.sh",
     "output_type": "error",
     "traceback": [
      "An exception has occurred, use %tb to see the full traceback.\n",
      "\u001b[1;31mSystemExit\u001b[0m\u001b[1;31m:\u001b[0m Create time series (../results/req_create.wsp.out) does not exist, please cd to experiments/baseline-compile/visualize and run ./plot.sh\n"
     ]
    },
    {
     "name": "stderr",
     "output_type": "stream",
     "text": [
      "To exit: use 'exit', 'quit', or Ctrl-D.\n"
     ]
    }
   ],
   "source": [
    "def read_timeseries(metric, label):\n",
    "    args  = {'skiprows' : 13, 'names': [\"index\", \"Time (sec)\", label]}\n",
    "    fname = '../results/' + metric + '.wsp.out'\n",
    "    try:\n",
    "        df = pd.read_csv(fname, **args)\n",
    "    except:\n",
    "        sys.exit(\"Create time series (\" + fname + \") does not exist, \"+\n",
    "                 \"please cd to experiments/baseline-compile/visualize and run ./plot.sh\")    \n",
    "    del df['index']\n",
    "    df = df[df['Time (sec)'] != 0]\n",
    "    return df\n",
    "\n",
    "# parse into data frames\n",
    "df = read_timeseries('req_create', 'create')\n",
    "for req in ['readdir', 'lookup', 'unlink', 'rmdir']:\n",
    "    df = pd.merge(df, read_timeseries('req_'+req, req), on='Time (sec)')\n",
    "df = df[df['create'] > 11] # lop off the beginning of the trace\n",
    "\n",
    "# plot the graph\n",
    "fig, ax = plt.subplots(1, 1, figsize=(8, 3))\n",
    "args = {'ax': ax, 'x': 'Time (sec)', 'lw': 2, 'colors': ['blue', 'green', 'red']}\n",
    "df.plot(y=['create', 'lookup', 'readdir'], **args)\n",
    "df.plot(y=['rmdir', 'unlink'], marker='o', markersize=5, markevery=10, **args)\n",
    "\n",
    "# annotate graph with job phases\n",
    "def plot_phases(ax, df, fname, jobs=['untar', 'make', 'rm'], y0=2000, y1=13000):\n",
    "    def to_seconds(timestamp):\n",
    "        ts = timestamp.split(':')\n",
    "        return int(float(ts[0])*60*60 + float(ts[1])*60 + float(ts[2]))\n",
    "    \n",
    "    runtimes = pd.read_csv(fname)\n",
    "    runtimes['label'] = ['download', 'untar', 'config', 'make', 'ls', 'rm']    \n",
    "    t = int(df['Time (sec)'].head(1))    \n",
    "    for index, row in runtimes.iterrows():\n",
    "        sec = to_seconds(row['delta'])\n",
    "        if row['label'] in jobs:\n",
    "            ax.annotate(row['label'], xy=(t, y0), xytext=(t, y1),\n",
    "                        ha='center', arrowprops=dict(facecolor='black'))\n",
    "        t += sec\n",
    "    print runtimes\n",
    "        \n",
    "plot_phases(ax, df, '../results/compile-threads-4-node-5-2017-12-11-18:10:25.txt')\n",
    "ax.set_ylabel(\"# of Operations\")\n",
    "ax.set_yticklabels(['{:3.0f}K'.format(y/1000) for y in ax.get_yticks()])\n",
    "ax.set_xticklabels(range(0, 1000, 100))\n",
    "ax.set_xlim(1510373598 - 100, 1510373598 + 740)\n",
    "ax.set_title(\"Compiling the Linux Kernel\") \n",
    "#fig.savefig('../../../paper/figures/compile-ops.png', bbox_inches='tight', dpi=400)\n"
   ]
  },
  {
   "cell_type": "code",
   "execution_count": null,
   "metadata": {
    "collapsed": true
   },
   "outputs": [],
   "source": []
  }
 ],
 "metadata": {
  "kernelspec": {
   "display_name": "Python 2",
   "language": "python",
   "name": "python2"
  },
  "language_info": {
   "codemirror_mode": {
    "name": "ipython",
    "version": 2
   },
   "file_extension": ".py",
   "mimetype": "text/x-python",
   "name": "python",
   "nbconvert_exporter": "python",
   "pygments_lexer": "ipython2",
   "version": "2.7.12"
  }
 },
 "nbformat": 4,
 "nbformat_minor": 0
}
