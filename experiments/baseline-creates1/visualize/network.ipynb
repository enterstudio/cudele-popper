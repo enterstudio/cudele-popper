{
 "cells": [
  {
   "cell_type": "code",
   "execution_count": 1,
   "metadata": {
    "collapsed": true
   },
   "outputs": [],
   "source": [
    "import pandas as pd\n",
    "import numpy as np\n",
    "import matplotlib\n",
    "import matplotlib.pyplot as plt\n",
    "import json\n",
    "import glob as glob\n",
    "import os\n",
    "%matplotlib inline"
   ]
  },
  {
   "cell_type": "code",
   "execution_count": 2,
   "metadata": {
    "collapsed": true
   },
   "outputs": [],
   "source": [
    "def to_seconds(timestamp):\n",
    "    ts = timestamp.split(':')\n",
    "    return float(float(ts[0])*60*60 + float(ts[1])*60 + float(ts[2]))\n",
    "\n",
    "def read_timeseries(metric, label, dirname):\n",
    "    args  = {'skiprows' : 13, 'names': [\"index\", \"Time (sec)\", label]}\n",
    "    fname = dirname + '/' + metric + '.wsp.out'\n",
    "    try:\n",
    "        df = pd.read_csv(fname, **args)\n",
    "    except:\n",
    "        sys.exit(\"Create time series (\" + fname + \") does not exist, \"+\n",
    "                 \"please cd to experiments/baseline-compile/visualize and run ./plot.sh\")    \n",
    "    del df['index']\n",
    "    df = df[df['Time (sec)'] != 0]\n",
    "    return df"
   ]
  },
  {
   "cell_type": "code",
   "execution_count": 3,
   "metadata": {
    "collapsed": false
   },
   "outputs": [],
   "source": [
    "def parse_mdtest(files):\n",
    "    r = []\n",
    "    for fname in sorted(files):\n",
    "        with open(fname) as f:\n",
    "            data = json.load(f)\n",
    "            for line in data:\n",
    "                if \"started\" in line: start = line.split()[4]\n",
    "                if \"finished\" in line: end = line.split()[4]\n",
    "            runtime = to_seconds(end) - to_seconds(start)\n",
    "            if runtime < 0: # we crossed into the next day\n",
    "                to_midnight = 60*60*24 - to_seconds(start)\n",
    "                runtime = to_midnight + to_seconds(end)\n",
    "            r.append(runtime)\n",
    "    return r\n",
    "\n",
    "def parse_runs(clients):\n",
    "    mean = pd.DataFrame(columns=[\"interfere journal\", \"isolated journal\", \"interfere\", \"isolated\"])\n",
    "    maxs = pd.DataFrame(columns=[\"interfere journal\", \"isolated journal\", \"interfere\", \"isolated\"])\n",
    "    stds = pd.DataFrame(columns=[\"interfere journal\", \"isolated journal\", \"interfere\", \"isolated\"])\n",
    "    for i in clients:\n",
    "        j0 = parse_mdtest(glob.glob(\"../results-cloudlab-clients\" + str(i) + \"/*interfere*\"))\n",
    "        j1 = parse_mdtest(glob.glob(\"../results-cloudlab-clients\" + str(i) + \"/*isolated*\"))    \n",
    "        j2 = parse_mdtest(glob.glob(\"../results-cloudlab-clients\" + str(i) + \"-nolog/*interfere*\"))\n",
    "        j3 = parse_mdtest(glob.glob(\"../results-cloudlab-clients\" + str(i) + \"-nolog/*isolated*\"))\n",
    "        mean.loc[len(mean)] = [np.mean(j0), np.mean(j1), np.mean(j2), np.mean(j3)]\n",
    "        maxs.loc[len(maxs)] = [np.max(j0), np.max(j1), np.max(j2), np.max(j3)]\n",
    "        stds.loc[len(stds)] = [np.std(j0), np.std(j1), np.std(j2), np.std(j3)]\n",
    "    return mean, stds, maxs"
   ]
  },
  {
   "cell_type": "code",
   "execution_count": 5,
   "metadata": {
    "collapsed": false
   },
   "outputs": [
    {
     "data": {
      "text/html": [
       "<div>\n",
       "<table border=\"1\" class=\"dataframe\">\n",
       "  <thead>\n",
       "    <tr style=\"text-align: right;\">\n",
       "      <th></th>\n",
       "      <th>No Journal</th>\n",
       "      <th>1</th>\n",
       "      <th>10</th>\n",
       "      <th>30</th>\n",
       "      <th>50</th>\n",
       "      <th>clients</th>\n",
       "    </tr>\n",
       "  </thead>\n",
       "  <tbody>\n",
       "    <tr>\n",
       "      <th>0</th>\n",
       "      <td>640.522876</td>\n",
       "      <td>566.473988</td>\n",
       "      <td>569.767442</td>\n",
       "      <td>563.218391</td>\n",
       "      <td>553.672316</td>\n",
       "      <td>1</td>\n",
       "    </tr>\n",
       "    <tr>\n",
       "      <th>1</th>\n",
       "      <td>2237.442922</td>\n",
       "      <td>1952.191235</td>\n",
       "      <td>1640.991293</td>\n",
       "      <td>1788.321168</td>\n",
       "      <td>1771.511208</td>\n",
       "      <td>5</td>\n",
       "    </tr>\n",
       "    <tr>\n",
       "      <th>2</th>\n",
       "      <td>2481.012658</td>\n",
       "      <td>2269.043760</td>\n",
       "      <td>1681.248928</td>\n",
       "      <td>1751.250893</td>\n",
       "      <td>1729.615249</td>\n",
       "      <td>10</td>\n",
       "    </tr>\n",
       "    <tr>\n",
       "      <th>3</th>\n",
       "      <td>2478.642086</td>\n",
       "      <td>2365.626006</td>\n",
       "      <td>1315.789474</td>\n",
       "      <td>1595.975680</td>\n",
       "      <td>1586.445068</td>\n",
       "      <td>15</td>\n",
       "    </tr>\n",
       "    <tr>\n",
       "      <th>4</th>\n",
       "      <td>2397.700165</td>\n",
       "      <td>2185.304939</td>\n",
       "      <td>1004.510045</td>\n",
       "      <td>NaN</td>\n",
       "      <td>NaN</td>\n",
       "      <td>20</td>\n",
       "    </tr>\n",
       "    <tr>\n",
       "      <th>5</th>\n",
       "      <td>2425.838647</td>\n",
       "      <td>2054.197270</td>\n",
       "      <td>NaN</td>\n",
       "      <td>NaN</td>\n",
       "      <td>NaN</td>\n",
       "      <td>25</td>\n",
       "    </tr>\n",
       "    <tr>\n",
       "      <th>6</th>\n",
       "      <td>2340.205365</td>\n",
       "      <td>NaN</td>\n",
       "      <td>NaN</td>\n",
       "      <td>NaN</td>\n",
       "      <td>NaN</td>\n",
       "      <td>30</td>\n",
       "    </tr>\n",
       "    <tr>\n",
       "      <th>7</th>\n",
       "      <td>NaN</td>\n",
       "      <td>NaN</td>\n",
       "      <td>NaN</td>\n",
       "      <td>NaN</td>\n",
       "      <td>NaN</td>\n",
       "      <td>35</td>\n",
       "    </tr>\n",
       "  </tbody>\n",
       "</table>\n",
       "</div>"
      ],
      "text/plain": [
       "    No Journal            1           10           30           50  clients\n",
       "0   640.522876   566.473988   569.767442   563.218391   553.672316        1\n",
       "1  2237.442922  1952.191235  1640.991293  1788.321168  1771.511208        5\n",
       "2  2481.012658  2269.043760  1681.248928  1751.250893  1729.615249       10\n",
       "3  2478.642086  2365.626006  1315.789474  1595.975680  1586.445068       15\n",
       "4  2397.700165  2185.304939  1004.510045          NaN          NaN       20\n",
       "5  2425.838647  2054.197270          NaN          NaN          NaN       25\n",
       "6  2340.205365          NaN          NaN          NaN          NaN       30\n",
       "7          NaN          NaN          NaN          NaN          NaN       35"
      ]
     },
     "execution_count": 5,
     "metadata": {},
     "output_type": "execute_result"
    },
    {
     "data": {
      "image/png": "[encoded data removed]",
      "text/plain": [
       "<matplotlib.figure.Figure at 0x7fb171c54050>"
      ]
     },
     "metadata": {},
     "output_type": "display_data"
    }
   ],
   "source": [
    "clients = [1, 5, 10, 15, 20, 25, 30, 35]\n",
    "#clients = [10]\n",
    "columns = ['No Journal', '1', '10', '30', '50']\n",
    "mean = pd.DataFrame(columns=columns)\n",
    "stds = pd.DataFrame(columns=columns)\n",
    "for i in clients:\n",
    "    j0 = parse_mdtest(glob.glob(\"../results-all/results-cloudlab-clients1-procs\"+str(i)+\"-nolog/*isolated*\")) \n",
    "    j1 = parse_mdtest(glob.glob(\"../results-all/results-cloudlab-clients1-procs\"+str(i)+\"-log1/*isolated*\"))    \n",
    "    j2 = parse_mdtest(glob.glob(\"../results-all/results-cloudlab-clients1-procs\"+str(i)+\"-log10/*isolated*\"))\n",
    "    j3 = parse_mdtest(glob.glob(\"../results-all/results-cloudlab-clients1-procs\"+str(i)+\"-log30/*isolated*\"))\n",
    "    j4 = parse_mdtest(glob.glob(\"../results-all/results-cloudlab-clients1-procs\"+str(i)+\"-log50/*isolated*\"))\n",
    "    mean.loc[len(mean)] = [np.mean(j0), np.mean(j1), np.mean(j2), np.mean(j3), np.mean(j4)]\n",
    "    stds.loc[len(stds)] = [np.std(j0), np.std(j1), np.std(j2), np.std(j3), np.std(j4)]\n",
    "\n",
    "cols_mds = []\n",
    "for col in columns:\n",
    "    mean[col] = [c*98000 for c in clients]/mean[col]\n",
    "    cols_mds.append(col)\n",
    "\n",
    "fig, ax = plt.subplots(1, 1)\n",
    "mean['clients'] = clients\n",
    "mean[cols_mds].plot(x=mean['clients'], ax=ax, lw=2, marker='o', ms=8)#, color=['blue', '#a6dba0', '#92c5de', 'green'])\n",
    "ax.set_xlim(-1, 40)\n",
    "#ax.set_yscale('log')\n",
    "#ax.set_ylim([10**2,10**4])\n",
    "mean"
   ]
  },
  {
   "cell_type": "code",
   "execution_count": null,
   "metadata": {
    "collapsed": true
   },
   "outputs": [],
   "source": []
  },
  {
   "cell_type": "code",
   "execution_count": 3,
   "metadata": {
    "collapsed": false
   },
   "outputs": [
    {
     "ename": "SystemExit",
     "evalue": "Create time series (../results-cloudlab-clients1-procs32-log-sweep/kbout-eth0.wsp.out) does not exist, please cd to experiments/baseline-compile/visualize and run ./plot.sh",
     "output_type": "error",
     "traceback": [
      "An exception has occurred, use %tb to see the full traceback.\n",
      "\u001b[1;31mSystemExit\u001b[0m\u001b[1;31m:\u001b[0m Create time series (../results-cloudlab-clients1-procs32-log-sweep/kbout-eth0.wsp.out) does not exist, please cd to experiments/baseline-compile/visualize and run ./plot.sh\n"
     ]
    },
    {
     "name": "stderr",
     "output_type": "stream",
     "text": [
      "To exit: use 'exit', 'quit', or Ctrl-D.\n"
     ]
    },
    {
     "data": {
      "image/png": "[encoded data removed]",
      "text/plain": [
       "<matplotlib.figure.Figure at 0x7fcbfdc59c10>"
      ]
     },
     "metadata": {},
     "output_type": "display_data"
    }
   ],
   "source": [
    "fig, ax = plt.subplots(1, 1)\n",
    "def network(ax, dirname):\n",
    "    df = read_timeseries('kbout-eth0', 'kbout_eth0', dirname)\n",
    "    for i in ['1', '2', '3']:\n",
    "        df = pd.merge(df, read_timeseries('kbout-eth'+i, 'kbout_eth'+i, dirname), on='Time (sec)')\n",
    "        \n",
    "    run = os.path.basename(dirname).split('-')[3]\n",
    "    df[run] = df['kbout_eth0'] + df['kbout_eth1'] + df['kbout_eth2'] + df['kbout_eth3']\n",
    "    df.plot(ax=ax, y=[run], label='test')\n",
    "    print os.path.basename(dirname)\n",
    "    ax.set_yticklabels(['{:3.0f}MB/s'.format(y/1000) for y in ax.get_yticks()], fontsize=12)\n",
    "\n",
    "network(ax, '../results-cloudlab-clients1-procs32-log-sweep')    \n",
    "network(ax, '../results-cloudlab-clients1-procs16-log-sweep')    \n",
    "network(ax, '../results-cloudlab-clients1-procs8-log-sweep')\n",
    "network(ax, '../results-cloudlab-clients1-procs4-log-sweep')\n",
    "network(ax, '../results-cloudlab-clients1-procs2-log-sweep')\n",
    "ax.set_xlim(0, 1000)"
   ]
  },
  {
   "cell_type": "code",
   "execution_count": null,
   "metadata": {
    "collapsed": true
   },
   "outputs": [],
   "source": []
  }
 ],
 "metadata": {
  "kernelspec": {
   "display_name": "Python 2",
   "language": "python",
   "name": "python2"
  },
  "language_info": {
   "codemirror_mode": {
    "name": "ipython",
    "version": 2
   },
   "file_extension": ".py",
   "mimetype": "text/x-python",
   "name": "python",
   "nbconvert_exporter": "python",
   "pygments_lexer": "ipython2",
   "version": "2.7.12"
  }
 },
 "nbformat": 4,
 "nbformat_minor": 1
}
