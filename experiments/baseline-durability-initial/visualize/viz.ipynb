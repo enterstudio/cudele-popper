{
 "cells": [
  {
   "cell_type": "code",
   "execution_count": 1,
   "metadata": {
    "collapsed": false
   },
   "outputs": [],
   "source": [
    "import pandas as pd\n",
    "import numpy as np\n",
    "import matplotlib\n",
    "import matplotlib.pyplot as plt\n",
    "import json\n",
    "import glob as glob\n",
    "import os\n",
    "%matplotlib inline"
   ]
  },
  {
   "cell_type": "code",
   "execution_count": 2,
   "metadata": {
    "collapsed": false
   },
   "outputs": [],
   "source": [
    "def to_seconds(timestamp):\n",
    "    ts = timestamp.split(':')\n",
    "    return float(float(ts[0])*60*60 + float(ts[1])*60 + float(ts[2]))\n",
    "\n",
    "def parse_mdtest(files):\n",
    "    r = []\n",
    "    for fname in sorted(files):\n",
    "        with open(fname) as f:\n",
    "            data = json.load(f)\n",
    "            for line in data['stdout_lines']:\n",
    "                if \"started\" in line: start = line.split()[4]\n",
    "                if \"finished\" in line: end = line.split()[4]            \n",
    "            r.append(to_seconds(end) - to_seconds(start))\n",
    "    return r\n",
    "\n",
    "def parse_delta(files):\n",
    "    r = []; o = []\n",
    "    for fname in sorted(files):\n",
    "        with open(fname) as f:\n",
    "            data = json.load(f)       \n",
    "            r.append(to_seconds(data['delta']))\n",
    "            try:\n",
    "                o.append(float(data['stdout']))\n",
    "            except:\n",
    "                o.append(0)\n",
    "    return r, o\n",
    "\n",
    "def label(string):\n",
    "    if 'nojournal' in string:\n",
    "        return \"No\\nJournal\"\n",
    "    return string.replace(\"journal\", '')"
   ]
  },
  {
   "cell_type": "code",
   "execution_count": 3,
   "metadata": {
    "collapsed": false
   },
   "outputs": [
    {
     "name": "stdout",
     "output_type": "stream",
     "text": [
      "452.725592855\n",
      "454.404945904\n",
      "451.058606935\n",
      "449.403852033\n",
      "baseline=100K/runtime=100K/216.466666667=461.964890668\n"
     ]
    },
    {
     "data": {
      "text/html": [
       "<div>\n",
       "<table border=\"1\" class=\"dataframe\">\n",
       "  <thead>\n",
       "    <tr style=\"text-align: right;\">\n",
       "      <th></th>\n",
       "      <th>job</th>\n",
       "      <th>mean</th>\n",
       "      <th>std</th>\n",
       "    </tr>\n",
       "  </thead>\n",
       "  <tbody>\n",
       "    <tr>\n",
       "      <th>0</th>\n",
       "      <td>No\\nJournal</td>\n",
       "      <td>1.000000</td>\n",
       "      <td>0.004420</td>\n",
       "    </tr>\n",
       "    <tr>\n",
       "      <th>1</th>\n",
       "      <td>30</td>\n",
       "      <td>0.996304</td>\n",
       "      <td>0.013669</td>\n",
       "    </tr>\n",
       "    <tr>\n",
       "      <th>2</th>\n",
       "      <td>120</td>\n",
       "      <td>1.003696</td>\n",
       "      <td>0.015866</td>\n",
       "    </tr>\n",
       "    <tr>\n",
       "      <th>3</th>\n",
       "      <td>210</td>\n",
       "      <td>1.007391</td>\n",
       "      <td>0.015319</td>\n",
       "    </tr>\n",
       "  </tbody>\n",
       "</table>\n",
       "</div>"
      ],
      "text/plain": [
       "           job      mean       std\n",
       "0  No\\nJournal  1.000000  0.004420\n",
       "1           30  0.996304  0.013669\n",
       "2          120  1.003696  0.015866\n",
       "3          210  1.007391  0.015319"
      ]
     },
     "execution_count": 3,
     "metadata": {},
     "output_type": "execute_result"
    },
    {
     "data": {
      "image/png": "[encoded data removed]",
      "text/plain": [
       "<matplotlib.figure.Figure at 0x7f938ce1b850>"
      ]
     },
     "metadata": {},
     "output_type": "display_data"
    }
   ],
   "source": [
    "mean = 0\n",
    "df = pd.DataFrame(columns=[\"job\", \"mean\", \"std\"])\n",
    "for s in [\"nojournal\", \"journal30\", \"journal120\",  \"journal210\"]:    \n",
    "    d = parse_mdtest(glob.glob('../results-5clients-g1-10G/' + s + '-cache/' + 'mdtest-100000-*'))\n",
    "    if mean == 0:\n",
    "        mean = np.mean(d)\n",
    "    print 1*98000/np.mean(d)\n",
    "    df.loc[len(df)] = [label(s), np.mean(d/mean), np.std(d/mean)]    \n",
    "\n",
    "font = {'size'   : 15}; matplotlib.rc('font', **font)\n",
    "fig, ax = plt.subplots(1, 1)\n",
    "df.plot.bar(ax=ax, y='mean', yerr='std', color=['white', 'b','b','b','b','b','b',])\n",
    "ax.legend().remove()\n",
    "ax.set_title(\"Effect of Journal Segment Size\")\n",
    "ax.set_ylabel(\"Slowdown\")\n",
    "ax.set_ylim(0, 1.5)\n",
    "ax.set_xlabel(\"Segment Size (MB)\")\n",
    "ax.set_xticklabels(df['job'], rotation=0)\n",
    "ax.set_yticklabels(['{:3.1f}x'.format(y) for y in ax.get_yticks()])\n",
    "\n",
    "# draw arrow\n",
    "arrw = dict(facecolor='black', headwidth=0.5, width=0.5, shrink=1)\n",
    "args = {'horizontalalignment': 'center', 'fontsize': 12, 'arrowprops': arrw}\n",
    "ax.annotate(\"baseline\\n462\\nop/sec\", xy=(0.1, 1), xytext=(0.15, 1.2), **args)\n",
    "fig.savefig('../../../paper/graphs/slowdown-journal.png', bbox_inches='tight', dpi=400)\n",
    "print \"baseline=100K/runtime=100K/\" + str(mean) + \"=\" + str(100000/mean)\n",
    "print \"total=\" + str(5)\n",
    "df"
   ]
  },
  {
   "cell_type": "code",
   "execution_count": 12,
   "metadata": {
    "collapsed": false
   },
   "outputs": [
    {
     "name": "stdout",
     "output_type": "stream",
     "text": [
      "1clients=622.406639004\n",
      "1clients=612.244897959\n",
      "1clients=627.615062762\n",
      "1clients=627.615062762\n",
      "5clients=2309.82445334\n",
      "5clients=2318.39258114\n",
      "5clients=2301.31942314\n",
      "5clients=2292.87679609\n",
      "10clients=2537.85635733\n",
      "10clients=2583.31180573\n",
      "10clients=2590.67357513\n",
      "10clients=2605.29743812\n",
      "15clients=2542.94755877\n",
      "15clients=2647.99340944\n",
      "15clients=2676.65952891\n",
      "15clients=2638.98662913\n",
      "20clients=2607.08486747\n",
      "20clients=2736.10944438\n",
      "20clients=2793.77527264\n",
      "20clients=2780.75909845\n"
     ]
    }
   ],
   "source": [
    "for i in [1, 5, 10, 15, 20]:\n",
    "    for s in [\"nojournal\", \"journal30\", \"journal120\",  \"journal210\"]:   \n",
    "        d = parse_mdtest(glob.glob('../results-' + str(i) + 'clients-g1-10G/' + s + '-cache/' + 'mdtest-100000-*'))\n",
    "        print str(i) + \"clients=\" + str(i*100000/np.mean(d))\n"
   ]
  },
  {
   "cell_type": "code",
   "execution_count": null,
   "metadata": {
    "collapsed": true
   },
   "outputs": [],
   "source": []
  }
 ],
 "metadata": {
  "kernelspec": {
   "display_name": "Python 2",
   "language": "python",
   "name": "python2"
  },
  "language_info": {
   "codemirror_mode": {
    "name": "ipython",
    "version": 2
   },
   "file_extension": ".py",
   "mimetype": "text/x-python",
   "name": "python",
   "nbconvert_exporter": "python",
   "pygments_lexer": "ipython2",
   "version": "2.7.12"
  }
 },
 "nbformat": 4,
 "nbformat_minor": 0
}
