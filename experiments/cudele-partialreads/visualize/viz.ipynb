{
 "cells": [
  {
   "cell_type": "code",
   "execution_count": 5,
   "metadata": {
    "collapsed": true
   },
   "outputs": [],
   "source": [
    "import pandas as pd\n",
    "import numpy as np\n",
    "import matplotlib\n",
    "import matplotlib.pyplot as plt\n",
    "import json\n",
    "import glob as glob\n",
    "import os\n",
    "%matplotlib inline\n",
    "import warnings\n",
    "from matplotlib.ticker import FormatStrFormatter\n",
    "warnings.filterwarnings('ignore')"
   ]
  },
  {
   "cell_type": "code",
   "execution_count": 9,
   "metadata": {
    "collapsed": true
   },
   "outputs": [],
   "source": [
    "def to_seconds(timestamp):\n",
    "    try: \n",
    "        ts = timestamp.split(':')\n",
    "        return float(float(ts[0])*60*60 + float(ts[1])*60 + float(ts[2]))\n",
    "    except: return float(0)"
   ]
  },
  {
   "cell_type": "code",
   "execution_count": 44,
   "metadata": {
    "collapsed": false
   },
   "outputs": [
    {
     "data": {
      "text/html": [
       "<div>\n",
       "<table border=\"1\" class=\"dataframe\">\n",
       "  <thead>\n",
       "    <tr style=\"text-align: right;\">\n",
       "      <th></th>\n",
       "      <th>job</th>\n",
       "      <th>nfiles</th>\n",
       "      <th>sync</th>\n",
       "      <th>time</th>\n",
       "      <th>runtime</th>\n",
       "    </tr>\n",
       "  </thead>\n",
       "  <tbody>\n",
       "    <tr>\n",
       "      <th>2</th>\n",
       "      <td>save</td>\n",
       "      <td>1000000</td>\n",
       "      <td>1</td>\n",
       "      <td>00:25:59</td>\n",
       "      <td>0.083230</td>\n",
       "    </tr>\n",
       "    <tr>\n",
       "      <th>3</th>\n",
       "      <td>save</td>\n",
       "      <td>1000000</td>\n",
       "      <td>5</td>\n",
       "      <td>00:25:59</td>\n",
       "      <td>0.032145</td>\n",
       "    </tr>\n",
       "    <tr>\n",
       "      <th>4</th>\n",
       "      <td>save</td>\n",
       "      <td>1000000</td>\n",
       "      <td>10</td>\n",
       "      <td>00:25:59</td>\n",
       "      <td>0.010521</td>\n",
       "    </tr>\n",
       "    <tr>\n",
       "      <th>5</th>\n",
       "      <td>save</td>\n",
       "      <td>1000000</td>\n",
       "      <td>15</td>\n",
       "      <td>00:25:59</td>\n",
       "      <td>0.002081</td>\n",
       "    </tr>\n",
       "    <tr>\n",
       "      <th>6</th>\n",
       "      <td>save</td>\n",
       "      <td>1000000</td>\n",
       "      <td>20</td>\n",
       "      <td>00:25:59</td>\n",
       "      <td>0.021751</td>\n",
       "    </tr>\n",
       "    <tr>\n",
       "      <th>7</th>\n",
       "      <td>save</td>\n",
       "      <td>1000000</td>\n",
       "      <td>25</td>\n",
       "      <td>00:25:59</td>\n",
       "      <td>0.029060</td>\n",
       "    </tr>\n",
       "    <tr>\n",
       "      <th>8</th>\n",
       "      <td>save</td>\n",
       "      <td>1000000</td>\n",
       "      <td>30</td>\n",
       "      <td>00:25:59</td>\n",
       "      <td>0.029596</td>\n",
       "    </tr>\n",
       "  </tbody>\n",
       "</table>\n",
       "</div>"
      ],
      "text/plain": [
       "    job   nfiles sync      time   runtime\n",
       "2  save  1000000    1  00:25:59  0.083230\n",
       "3  save  1000000    5  00:25:59  0.032145\n",
       "4  save  1000000   10  00:25:59  0.010521\n",
       "5  save  1000000   15  00:25:59  0.002081\n",
       "6  save  1000000   20  00:25:59  0.021751\n",
       "7  save  1000000   25  00:25:59  0.029060\n",
       "8  save  1000000   30  00:25:59  0.029596"
      ]
     },
     "execution_count": 44,
     "metadata": {},
     "output_type": "execute_result"
    },
    {
     "data": {
      "image/png": "[encoded data removed]",
      "text/plain": [
       "<matplotlib.figure.Figure at 0x7f0e37a4f090>"
      ]
     },
     "metadata": {},
     "output_type": "display_data"
    }
   ],
   "source": [
    "jobs   = ['RPCs', 'create', 'save', 'persist', 'v.apply', 'apply']\n",
    "files  = ['10000', '100000']\n",
    "\n",
    "with open('../results-cloudlab/summary.txt') as f:\n",
    "    df = pd.read_csv(f, names=['job', 'nfiles', 'sync', 'time', 'runtime'])\n",
    "    df['runtime'] = (1 - (106.564552/df['runtime'].apply(to_seconds)))\n",
    "df = df[df['job'] == 'save']\n",
    "df = df.drop(df.index[0])\n",
    "fig, ax = plt.subplots(1, 1)\n",
    "df.plot.bar(ax=ax, y='runtime')\n",
    "ax.set_xticklabels(df['sync'], rotation=0)\n",
    "ax.set_ylabel(\"Slowdown Compared to No Syncs\")\n",
    "ax.legend().remove()\n",
    "ax.set_yticklabels(['{:3.0f}%'.format(x*100) for x in ax.get_yticks()])\n",
    "ax.set_xlabel(\"Namespace Sync Intervals\")\n",
    "ax.set_title(\"Effect of Namespace Sync Intervals\")\n",
    "fig.savefig('graphs/slowdown-sync.png', bbox_inches='tight', dpi=400)\n",
    "df"
   ]
  },
  {
   "cell_type": "code",
   "execution_count": null,
   "metadata": {
    "collapsed": true
   },
   "outputs": [],
   "source": []
  }
 ],
 "metadata": {
  "kernelspec": {
   "display_name": "Python 2",
   "language": "python",
   "name": "python2"
  },
  "language_info": {
   "codemirror_mode": {
    "name": "ipython",
    "version": 2
   },
   "file_extension": ".py",
   "mimetype": "text/x-python",
   "name": "python",
   "nbconvert_exporter": "python",
   "pygments_lexer": "ipython2",
   "version": "2.7.12"
  }
 },
 "nbformat": 4,
 "nbformat_minor": 0
}
