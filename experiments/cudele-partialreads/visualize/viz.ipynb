{
 "cells": [
  {
   "cell_type": "code",
   "execution_count": 1,
   "metadata": {
    "collapsed": true
   },
   "outputs": [],
   "source": [
    "import pandas as pd\n",
    "import numpy as np\n",
    "import matplotlib\n",
    "import matplotlib.pyplot as plt\n",
    "import json\n",
    "import glob as glob\n",
    "import os\n",
    "%matplotlib inline\n",
    "import warnings\n",
    "from matplotlib.ticker import FormatStrFormatter\n",
    "warnings.filterwarnings('ignore')"
   ]
  },
  {
   "cell_type": "code",
   "execution_count": 2,
   "metadata": {
    "collapsed": true
   },
   "outputs": [],
   "source": [
    "def to_seconds(timestamp):\n",
    "    try: \n",
    "        ts = timestamp.split(':')\n",
    "        return float(float(ts[0])*60*60 + float(ts[1])*60 + float(ts[2]))\n",
    "    except: return float(0)"
   ]
  },
  {
   "cell_type": "code",
   "execution_count": 124,
   "metadata": {
    "collapsed": false
   },
   "outputs": [
    {
     "data": {
      "image/png": "[encoded data removed]",
      "text/plain": [
       "<matplotlib.figure.Figure at 0x7f83f3d84850>"
      ]
     },
     "metadata": {},
     "output_type": "display_data"
    }
   ],
   "source": [
    "def parse_summary(fname, norm=-1):\n",
    "    with open(fname) as f:\n",
    "        df = pd.read_csv(f, names=['job', 'nfiles', 'sync', 'time', 'runtime'])\n",
    "        if norm == -1:\n",
    "            df['runtime'] = df['runtime'].apply(to_seconds)\n",
    "        else:\n",
    "            df['runtime'] = (1 - norm/df['runtime'].apply(to_seconds))\n",
    "    df = df[df['job'] == 'save']\n",
    "    return df\n",
    "\n",
    "# get the baseline\n",
    "df = parse_summary('../results-cloudlab/summary.txt')\n",
    "columns = df['sync']\n",
    "norm = float(df[df['sync'] == \"0\"]['runtime'])\n",
    "del df['job'], df['nfiles'], df['sync'], df['time'], df['runtime']\n",
    "\n",
    "# read all the runs\n",
    "for i in range(0, 9):\n",
    "    d = parse_summary('../results-cloudlab-run' + str(i) + '/summary.txt', norm)\n",
    "    df[str(i) + \"run\"] = d['runtime']\n",
    "\n",
    "# massage the data\n",
    "df = df.T\n",
    "df.columns = columns\n",
    "del df['0']\n",
    "\n",
    "# plot it\n",
    "fig, ax = plt.subplots(1, 1)\n",
    "df.mean().plot(kind='bar', yerr=df.std())\n",
    "ax.set_yticklabels(['{:3.0f}%'.format(x*100) for x in ax.get_yticks()])\n",
    "ax.set_xticklabels(df.columns, rotation=0)\n",
    "ax.set_ylabel(\"Overhead\")\n",
    "ax.legend().remove()\n",
    "ax.set_xlabel(\"Interval (seconds)\")\n",
    "x = ax.set_title(\"Effect of Namespace Sync Intervals\")\n",
    "fig.savefig('graphs/slowdown-sync.png', bbox_inches='tight', dpi=400)"
   ]
  },
  {
   "cell_type": "code",
   "execution_count": null,
   "metadata": {
    "collapsed": true
   },
   "outputs": [],
   "source": []
  }
 ],
 "metadata": {
  "kernelspec": {
   "display_name": "Python 2",
   "language": "python",
   "name": "python2"
  },
  "language_info": {
   "codemirror_mode": {
    "name": "ipython",
    "version": 2
   },
   "file_extension": ".py",
   "mimetype": "text/x-python",
   "name": "python",
   "nbconvert_exporter": "python",
   "pygments_lexer": "ipython2",
   "version": "2.7.12"
  }
 },
 "nbformat": 4,
 "nbformat_minor": 0
}
