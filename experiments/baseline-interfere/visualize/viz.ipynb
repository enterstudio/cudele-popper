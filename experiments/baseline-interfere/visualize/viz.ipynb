{
 "cells": [
  {
   "cell_type": "code",
   "execution_count": 1,
   "metadata": {
    "collapsed": false
   },
   "outputs": [],
   "source": [
    "import pandas as pd\n",
    "import numpy as np\n",
    "import matplotlib\n",
    "import matplotlib.pyplot as plt\n",
    "import json\n",
    "import glob as glob\n",
    "import os\n",
    "%matplotlib inline"
   ]
  },
  {
   "cell_type": "markdown",
   "metadata": {},
   "source": [
    "# FUSE Client\n",
    "\n",
    "1 server and 2 clients"
   ]
  },
  {
   "cell_type": "code",
   "execution_count": 2,
   "metadata": {
    "collapsed": false
   },
   "outputs": [],
   "source": [
    "def to_seconds(timestamp):\n",
    "    ts = timestamp.split(':')\n",
    "    return float(float(ts[0])*60*60 + float(ts[1])*60 + float(ts[2]))\n",
    "\n",
    "def parse_mdtest(files):\n",
    "    r = []\n",
    "    for fname in sorted(files):\n",
    "        with open(fname) as f:\n",
    "            data = json.load(f)\n",
    "            for line in data['stdout_lines']:\n",
    "                if \"started\" in line: start = line.split()[4]\n",
    "                if \"finished\" in line: end = line.split()[4]\n",
    "            r.append(to_seconds(end) - to_seconds(start))\n",
    "    return r\n",
    "\n",
    "def parse_delta(files):\n",
    "    r = []; o = []\n",
    "    for fname in sorted(files):\n",
    "        with open(fname) as f:\n",
    "            data = json.load(f)       \n",
    "            r.append(to_seconds(data['delta']))\n",
    "            try:\n",
    "                o.append(float(data['stdout']))\n",
    "            except:\n",
    "                o.append(0)\n",
    "    return r, o"
   ]
  },
  {
   "cell_type": "code",
   "execution_count": 5,
   "metadata": {
    "collapsed": false
   },
   "outputs": [
    {
     "ename": "SystemExit",
     "evalue": "Create time series (../results-paper/nojournal-cache/tmp/handle_client_request_tput.wsp.out) does not exist, please cd to experiments/baseline-interfere/results-paper/nojournal-cache and run ./plot.sh",
     "output_type": "error",
     "traceback": [
      "An exception has occurred, use %tb to see the full traceback.\n",
      "\u001b[1;31mSystemExit\u001b[0m\u001b[1;31m:\u001b[0m Create time series (../results-paper/nojournal-cache/tmp/handle_client_request_tput.wsp.out) does not exist, please cd to experiments/baseline-interfere/results-paper/nojournal-cache and run ./plot.sh\n"
     ]
    },
    {
     "name": "stderr",
     "output_type": "stream",
     "text": [
      "To exit: use 'exit', 'quit', or Ctrl-D.\n"
     ]
    },
    {
     "data": {
      "image/png": "[encoded data removed]",
      "text/plain": [
       "<matplotlib.figure.Figure at 0x7f1b13bbb690>"
      ]
     },
     "metadata": {},
     "output_type": "display_data"
    }
   ],
   "source": [
    "fig, ax = plt.subplots(1, 1)\n",
    "s = '../results-paper/nojournal-cache/tmp/'\n",
    "\n",
    "fname = s + 'handle_client_request_tput.wsp.out'\n",
    "try:\n",
    "    df = pd.read_csv(fname, skiprows=13, names=[\"index\", \"time\",'handle_client_request_tput'])\n",
    "except:\n",
    "    sys.exit(\"Create time series (\" + fname + \") does not exist, \"+\n",
    "             \"please cd to experiments/baseline-interfere/results-paper/nojournal-cache and run ./plot.sh\")    \n",
    "    \n",
    "df = df[df['time'] != 0]                  # filter out null timestamps\n",
    "init = 0\n",
    "if init == 0:\n",
    "    init = float(df['time'].loc[0])       # beginning of runs shifted to 0 (unix time stamp)\n",
    "#df = df.drop(df.index[range(0, 50)])     # drop some values to line up start times\n",
    "shft = df['index'].iloc[0]                # shift timestamps to 0\n",
    "df['x'] = df['time'] - init - shft        # specify values for x axis\n",
    "df.plot(ax=ax, x='x', y='handle_client_request_tput', lw=4, label='interfere')\n",
    "df1 = df\n",
    "df1['x'] = df['x'] - 300\n",
    "df1['handle_client_request_tput'] = df1['handle_client_request_tput'] - 0\n",
    "df1.plot(ax=ax, x='x', y='handle_client_request_tput', lw=4, label='isolated')\n",
    "ax.set_yticklabels(['', '', '1K', '', '2K', '', ''])\n",
    "ax.set_title('Effect of Interfering Client')\n",
    "ax.set_xlabel('Time (seconds)')\n",
    "ax.set_ylabel('Requests/sec')\n",
    "ax.set_ylim(0, 3000)\n",
    "ax.legend(loc='upper left', fontsize=12)\n",
    "\n",
    "ax2 = ax.twinx()\n",
    "(\"req_lookup\", 3, 300, 210000)\n",
    "df = pd.read_csv(s + 'req_lookup.wsp.out', skiprows=13, names=[\"index\", \"time\", 'req_lookup'])\n",
    "df = df[df['time'] != 0]                  # filter out null timestamps\n",
    "shft = df['index'].iloc[0]                # shift timestamps to 0\n",
    "df['x'] = df['time'] - init - shft        # specify values for x axis\n",
    "df.plot(ax=ax2, x='x', y='req_lookup', marker='.', ms=10, lw=2, label='interfere (y2 axis)')\n",
    "\n",
    "df1 = df\n",
    "df1['x'] = df['x'] - 300\n",
    "df1['req_lookup'] = df1['req_lookup'] - 210000\n",
    "df1.plot(ax=ax2, x='x', y='req_lookup', marker='.', ms=10, lw=2, label='isolated (y2 axis)')\n",
    "\n",
    "ax2.legend(loc='upper right', fontsize=12)\n",
    "ax2.set_ylabel('# of Lookup Requests')\n",
    "ax2.set_xlim(1, 199) \n",
    "ax2.set_ylim(1, 200000)\n",
    "vals = ax2.get_yticks()\n",
    "ax2.set_yticklabels(['{:3.0f}K'.format(x/1000) for x in vals])\n",
    "ax2.set_yticklabels(['', '50K', '100K', '150K', ''])\n",
    "\n",
    "\n",
    "# add arrow\n",
    "ax.annotate('2nd Client Starts', fontsize=15, xy=(50, 1000), xytext=(10, 1800),\n",
    "            arrowprops=dict(facecolor='black', shrink=0.05),\n",
    "            horizontalalignment='middle',\n",
    "            )\n",
    "fig.savefig('graphs/behavior-interfere.png', bbox_inches='tight', dpi=400)"
   ]
  },
  {
   "cell_type": "code",
   "execution_count": null,
   "metadata": {
    "collapsed": true
   },
   "outputs": [],
   "source": []
  }
 ],
 "metadata": {
  "kernelspec": {
   "display_name": "Python 2",
   "language": "python",
   "name": "python2"
  },
  "language_info": {
   "codemirror_mode": {
    "name": "ipython",
    "version": 2
   },
   "file_extension": ".py",
   "mimetype": "text/x-python",
   "name": "python",
   "nbconvert_exporter": "python",
   "pygments_lexer": "ipython2",
   "version": "2.7.12"
  }
 },
 "nbformat": 4,
 "nbformat_minor": 0
}
